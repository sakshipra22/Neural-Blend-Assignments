{
  "nbformat": 4,
  "nbformat_minor": 0,
  "metadata": {
    "colab": {
      "provenance": []
    },
    "kernelspec": {
      "name": "python3",
      "display_name": "Python 3"
    },
    "language_info": {
      "name": "python"
    }
  },
  "cells": [
    {
      "cell_type": "code",
      "execution_count": null,
      "metadata": {
        "id": "E-YrF49BvOG5"
      },
      "outputs": [],
      "source": [
        "import pandas as pd\n",
        "import numpy as np\n",
        "import matplotlib.pyplot as plt\n",
        "from sklearn.model_selection import train_test_split"
      ]
    },
    {
      "cell_type": "code",
      "source": [
        "from IPython.display import clear_output\n",
        "!wget --no-check-certificate 'https://docs.google.com/uc?export=download&id=16x6-8Znn2T50zFwVvKlzsdN7Jd1hpjct' -O Linear_regression_dataset\n",
        "\n",
        "data_df = pd.read_csv(\"Linear_regression_dataset\")"
      ],
      "metadata": {
        "colab": {
          "base_uri": "https://localhost:8080/"
        },
        "id": "L9DVUMAQvVk3",
        "outputId": "eb904b1d-a3b6-474f-f190-63d150f6d375"
      },
      "execution_count": null,
      "outputs": [
        {
          "output_type": "stream",
          "name": "stdout",
          "text": [
            "--2023-06-10 09:57:37--  https://docs.google.com/uc?export=download&id=16x6-8Znn2T50zFwVvKlzsdN7Jd1hpjct\n",
            "Resolving docs.google.com (docs.google.com)... 74.125.126.101, 74.125.126.100, 74.125.126.113, ...\n",
            "Connecting to docs.google.com (docs.google.com)|74.125.126.101|:443... connected.\n",
            "HTTP request sent, awaiting response... 303 See Other\n",
            "Location: https://doc-14-3o-docs.googleusercontent.com/docs/securesc/ha0ro937gcuc7l7deffksulhg5h7mbp1/740r58r144528rvidma5u7rhfrq27hj7/1686391050000/17346214133729595847/*/16x6-8Znn2T50zFwVvKlzsdN7Jd1hpjct?e=download&uuid=d9a0d778-ec2c-4c63-88c0-56a6a08bcf94 [following]\n",
            "Warning: wildcards not supported in HTTP.\n",
            "--2023-06-10 09:57:39--  https://doc-14-3o-docs.googleusercontent.com/docs/securesc/ha0ro937gcuc7l7deffksulhg5h7mbp1/740r58r144528rvidma5u7rhfrq27hj7/1686391050000/17346214133729595847/*/16x6-8Znn2T50zFwVvKlzsdN7Jd1hpjct?e=download&uuid=d9a0d778-ec2c-4c63-88c0-56a6a08bcf94\n",
            "Resolving doc-14-3o-docs.googleusercontent.com (doc-14-3o-docs.googleusercontent.com)... 142.251.120.132, 2607:f8b0:4001:c2e::84\n",
            "Connecting to doc-14-3o-docs.googleusercontent.com (doc-14-3o-docs.googleusercontent.com)|142.251.120.132|:443... connected.\n",
            "HTTP request sent, awaiting response... 200 OK\n",
            "Length: 2515206 (2.4M) [text/csv]\n",
            "Saving to: ‘Linear_regression_dataset’\n",
            "\n",
            "Linear_regression_d 100%[===================>]   2.40M  --.-KB/s    in 0.02s   \n",
            "\n",
            "2023-06-10 09:57:39 (142 MB/s) - ‘Linear_regression_dataset’ saved [2515206/2515206]\n",
            "\n"
          ]
        }
      ]
    },
    {
      "cell_type": "code",
      "source": [
        "print(\"(No of rows, No of Columns) = \",data_df.shape)\n",
        "data_df.head()"
      ],
      "metadata": {
        "colab": {
          "base_uri": "https://localhost:8080/",
          "height": 317
        },
        "id": "Sbos-WCLvZ0N",
        "outputId": "c974a86d-7304-4c5a-d765-d5f47c459bb5"
      },
      "execution_count": null,
      "outputs": [
        {
          "output_type": "stream",
          "name": "stdout",
          "text": [
            "(No of rows, No of Columns) =  (21613, 21)\n"
          ]
        },
        {
          "output_type": "execute_result",
          "data": {
            "text/plain": [
              "           id             date     price  bedrooms  bathrooms  sqft_living  \\\n",
              "0  7129300520  20141013T000000  221900.0         3       1.00         1180   \n",
              "1  6414100192  20141209T000000  538000.0         3       2.25         2570   \n",
              "2  5631500400  20150225T000000  180000.0         2       1.00          770   \n",
              "3  2487200875  20141209T000000  604000.0         4       3.00         1960   \n",
              "4  1954400510  20150218T000000  510000.0         3       2.00         1680   \n",
              "\n",
              "   sqft_lot  floors  waterfront  view  ...  grade  sqft_above  sqft_basement  \\\n",
              "0      5650     1.0           0     0  ...      7        1180              0   \n",
              "1      7242     2.0           0     0  ...      7        2170            400   \n",
              "2     10000     1.0           0     0  ...      6         770              0   \n",
              "3      5000     1.0           0     0  ...      7        1050            910   \n",
              "4      8080     1.0           0     0  ...      8        1680              0   \n",
              "\n",
              "   yr_built  yr_renovated  zipcode      lat     long  sqft_living15  \\\n",
              "0      1955             0    98178  47.5112 -122.257           1340   \n",
              "1      1951          1991    98125  47.7210 -122.319           1690   \n",
              "2      1933             0    98028  47.7379 -122.233           2720   \n",
              "3      1965             0    98136  47.5208 -122.393           1360   \n",
              "4      1987             0    98074  47.6168 -122.045           1800   \n",
              "\n",
              "   sqft_lot15  \n",
              "0        5650  \n",
              "1        7639  \n",
              "2        8062  \n",
              "3        5000  \n",
              "4        7503  \n",
              "\n",
              "[5 rows x 21 columns]"
            ],
            "text/html": [
              "\n",
              "  <div id=\"df-6bc42cea-dbbf-47cc-971f-85e7b126900b\">\n",
              "    <div class=\"colab-df-container\">\n",
              "      <div>\n",
              "<style scoped>\n",
              "    .dataframe tbody tr th:only-of-type {\n",
              "        vertical-align: middle;\n",
              "    }\n",
              "\n",
              "    .dataframe tbody tr th {\n",
              "        vertical-align: top;\n",
              "    }\n",
              "\n",
              "    .dataframe thead th {\n",
              "        text-align: right;\n",
              "    }\n",
              "</style>\n",
              "<table border=\"1\" class=\"dataframe\">\n",
              "  <thead>\n",
              "    <tr style=\"text-align: right;\">\n",
              "      <th></th>\n",
              "      <th>id</th>\n",
              "      <th>date</th>\n",
              "      <th>price</th>\n",
              "      <th>bedrooms</th>\n",
              "      <th>bathrooms</th>\n",
              "      <th>sqft_living</th>\n",
              "      <th>sqft_lot</th>\n",
              "      <th>floors</th>\n",
              "      <th>waterfront</th>\n",
              "      <th>view</th>\n",
              "      <th>...</th>\n",
              "      <th>grade</th>\n",
              "      <th>sqft_above</th>\n",
              "      <th>sqft_basement</th>\n",
              "      <th>yr_built</th>\n",
              "      <th>yr_renovated</th>\n",
              "      <th>zipcode</th>\n",
              "      <th>lat</th>\n",
              "      <th>long</th>\n",
              "      <th>sqft_living15</th>\n",
              "      <th>sqft_lot15</th>\n",
              "    </tr>\n",
              "  </thead>\n",
              "  <tbody>\n",
              "    <tr>\n",
              "      <th>0</th>\n",
              "      <td>7129300520</td>\n",
              "      <td>20141013T000000</td>\n",
              "      <td>221900.0</td>\n",
              "      <td>3</td>\n",
              "      <td>1.00</td>\n",
              "      <td>1180</td>\n",
              "      <td>5650</td>\n",
              "      <td>1.0</td>\n",
              "      <td>0</td>\n",
              "      <td>0</td>\n",
              "      <td>...</td>\n",
              "      <td>7</td>\n",
              "      <td>1180</td>\n",
              "      <td>0</td>\n",
              "      <td>1955</td>\n",
              "      <td>0</td>\n",
              "      <td>98178</td>\n",
              "      <td>47.5112</td>\n",
              "      <td>-122.257</td>\n",
              "      <td>1340</td>\n",
              "      <td>5650</td>\n",
              "    </tr>\n",
              "    <tr>\n",
              "      <th>1</th>\n",
              "      <td>6414100192</td>\n",
              "      <td>20141209T000000</td>\n",
              "      <td>538000.0</td>\n",
              "      <td>3</td>\n",
              "      <td>2.25</td>\n",
              "      <td>2570</td>\n",
              "      <td>7242</td>\n",
              "      <td>2.0</td>\n",
              "      <td>0</td>\n",
              "      <td>0</td>\n",
              "      <td>...</td>\n",
              "      <td>7</td>\n",
              "      <td>2170</td>\n",
              "      <td>400</td>\n",
              "      <td>1951</td>\n",
              "      <td>1991</td>\n",
              "      <td>98125</td>\n",
              "      <td>47.7210</td>\n",
              "      <td>-122.319</td>\n",
              "      <td>1690</td>\n",
              "      <td>7639</td>\n",
              "    </tr>\n",
              "    <tr>\n",
              "      <th>2</th>\n",
              "      <td>5631500400</td>\n",
              "      <td>20150225T000000</td>\n",
              "      <td>180000.0</td>\n",
              "      <td>2</td>\n",
              "      <td>1.00</td>\n",
              "      <td>770</td>\n",
              "      <td>10000</td>\n",
              "      <td>1.0</td>\n",
              "      <td>0</td>\n",
              "      <td>0</td>\n",
              "      <td>...</td>\n",
              "      <td>6</td>\n",
              "      <td>770</td>\n",
              "      <td>0</td>\n",
              "      <td>1933</td>\n",
              "      <td>0</td>\n",
              "      <td>98028</td>\n",
              "      <td>47.7379</td>\n",
              "      <td>-122.233</td>\n",
              "      <td>2720</td>\n",
              "      <td>8062</td>\n",
              "    </tr>\n",
              "    <tr>\n",
              "      <th>3</th>\n",
              "      <td>2487200875</td>\n",
              "      <td>20141209T000000</td>\n",
              "      <td>604000.0</td>\n",
              "      <td>4</td>\n",
              "      <td>3.00</td>\n",
              "      <td>1960</td>\n",
              "      <td>5000</td>\n",
              "      <td>1.0</td>\n",
              "      <td>0</td>\n",
              "      <td>0</td>\n",
              "      <td>...</td>\n",
              "      <td>7</td>\n",
              "      <td>1050</td>\n",
              "      <td>910</td>\n",
              "      <td>1965</td>\n",
              "      <td>0</td>\n",
              "      <td>98136</td>\n",
              "      <td>47.5208</td>\n",
              "      <td>-122.393</td>\n",
              "      <td>1360</td>\n",
              "      <td>5000</td>\n",
              "    </tr>\n",
              "    <tr>\n",
              "      <th>4</th>\n",
              "      <td>1954400510</td>\n",
              "      <td>20150218T000000</td>\n",
              "      <td>510000.0</td>\n",
              "      <td>3</td>\n",
              "      <td>2.00</td>\n",
              "      <td>1680</td>\n",
              "      <td>8080</td>\n",
              "      <td>1.0</td>\n",
              "      <td>0</td>\n",
              "      <td>0</td>\n",
              "      <td>...</td>\n",
              "      <td>8</td>\n",
              "      <td>1680</td>\n",
              "      <td>0</td>\n",
              "      <td>1987</td>\n",
              "      <td>0</td>\n",
              "      <td>98074</td>\n",
              "      <td>47.6168</td>\n",
              "      <td>-122.045</td>\n",
              "      <td>1800</td>\n",
              "      <td>7503</td>\n",
              "    </tr>\n",
              "  </tbody>\n",
              "</table>\n",
              "<p>5 rows × 21 columns</p>\n",
              "</div>\n",
              "      <button class=\"colab-df-convert\" onclick=\"convertToInteractive('df-6bc42cea-dbbf-47cc-971f-85e7b126900b')\"\n",
              "              title=\"Convert this dataframe to an interactive table.\"\n",
              "              style=\"display:none;\">\n",
              "        \n",
              "  <svg xmlns=\"http://www.w3.org/2000/svg\" height=\"24px\"viewBox=\"0 0 24 24\"\n",
              "       width=\"24px\">\n",
              "    <path d=\"M0 0h24v24H0V0z\" fill=\"none\"/>\n",
              "    <path d=\"M18.56 5.44l.94 2.06.94-2.06 2.06-.94-2.06-.94-.94-2.06-.94 2.06-2.06.94zm-11 1L8.5 8.5l.94-2.06 2.06-.94-2.06-.94L8.5 2.5l-.94 2.06-2.06.94zm10 10l.94 2.06.94-2.06 2.06-.94-2.06-.94-.94-2.06-.94 2.06-2.06.94z\"/><path d=\"M17.41 7.96l-1.37-1.37c-.4-.4-.92-.59-1.43-.59-.52 0-1.04.2-1.43.59L10.3 9.45l-7.72 7.72c-.78.78-.78 2.05 0 2.83L4 21.41c.39.39.9.59 1.41.59.51 0 1.02-.2 1.41-.59l7.78-7.78 2.81-2.81c.8-.78.8-2.07 0-2.86zM5.41 20L4 18.59l7.72-7.72 1.47 1.35L5.41 20z\"/>\n",
              "  </svg>\n",
              "      </button>\n",
              "      \n",
              "  <style>\n",
              "    .colab-df-container {\n",
              "      display:flex;\n",
              "      flex-wrap:wrap;\n",
              "      gap: 12px;\n",
              "    }\n",
              "\n",
              "    .colab-df-convert {\n",
              "      background-color: #E8F0FE;\n",
              "      border: none;\n",
              "      border-radius: 50%;\n",
              "      cursor: pointer;\n",
              "      display: none;\n",
              "      fill: #1967D2;\n",
              "      height: 32px;\n",
              "      padding: 0 0 0 0;\n",
              "      width: 32px;\n",
              "    }\n",
              "\n",
              "    .colab-df-convert:hover {\n",
              "      background-color: #E2EBFA;\n",
              "      box-shadow: 0px 1px 2px rgba(60, 64, 67, 0.3), 0px 1px 3px 1px rgba(60, 64, 67, 0.15);\n",
              "      fill: #174EA6;\n",
              "    }\n",
              "\n",
              "    [theme=dark] .colab-df-convert {\n",
              "      background-color: #3B4455;\n",
              "      fill: #D2E3FC;\n",
              "    }\n",
              "\n",
              "    [theme=dark] .colab-df-convert:hover {\n",
              "      background-color: #434B5C;\n",
              "      box-shadow: 0px 1px 3px 1px rgba(0, 0, 0, 0.15);\n",
              "      filter: drop-shadow(0px 1px 2px rgba(0, 0, 0, 0.3));\n",
              "      fill: #FFFFFF;\n",
              "    }\n",
              "  </style>\n",
              "\n",
              "      <script>\n",
              "        const buttonEl =\n",
              "          document.querySelector('#df-6bc42cea-dbbf-47cc-971f-85e7b126900b button.colab-df-convert');\n",
              "        buttonEl.style.display =\n",
              "          google.colab.kernel.accessAllowed ? 'block' : 'none';\n",
              "\n",
              "        async function convertToInteractive(key) {\n",
              "          const element = document.querySelector('#df-6bc42cea-dbbf-47cc-971f-85e7b126900b');\n",
              "          const dataTable =\n",
              "            await google.colab.kernel.invokeFunction('convertToInteractive',\n",
              "                                                     [key], {});\n",
              "          if (!dataTable) return;\n",
              "\n",
              "          const docLinkHtml = 'Like what you see? Visit the ' +\n",
              "            '<a target=\"_blank\" href=https://colab.research.google.com/notebooks/data_table.ipynb>data table notebook</a>'\n",
              "            + ' to learn more about interactive tables.';\n",
              "          element.innerHTML = '';\n",
              "          dataTable['output_type'] = 'display_data';\n",
              "          await google.colab.output.renderOutput(dataTable, element);\n",
              "          const docLink = document.createElement('div');\n",
              "          docLink.innerHTML = docLinkHtml;\n",
              "          element.appendChild(docLink);\n",
              "        }\n",
              "      </script>\n",
              "    </div>\n",
              "  </div>\n",
              "  "
            ]
          },
          "metadata": {},
          "execution_count": 3
        }
      ]
    },
    {
      "cell_type": "code",
      "source": [
        "data_df['date'] = data_df['date'].str.replace('T000000', '')\n",
        "\n",
        "data_array=np.array(data_df)\n",
        "data_array=np.delete(data_array,0,1)\n",
        "data_array=data_array.astype(np.int)\n",
        "print(data_array)\n",
        "\n",
        "assert (data_array.shape == (21613,20))\n",
        "\n",
        "data_df.head()\n"
      ],
      "metadata": {
        "colab": {
          "base_uri": "https://localhost:8080/",
          "height": 473
        },
        "id": "iGaReE1Evflx",
        "outputId": "b497e136-fc96-41a1-ffc4-7c8eefc8c52e"
      },
      "execution_count": null,
      "outputs": [
        {
          "output_type": "stream",
          "name": "stdout",
          "text": [
            "[[20141013   221900        0 ...        0        0        0]\n",
            " [20141209   538000        0 ...        0        0        0]\n",
            " [20150225   180000       -1 ...        0        1        0]\n",
            " ...\n",
            " [20140623   402101       -1 ...        0       -1        0]\n",
            " [20150116   400000        0 ...        1        0        0]\n",
            " [20141015   325000       -1 ...        0       -1        0]]\n"
          ]
        },
        {
          "output_type": "stream",
          "name": "stderr",
          "text": [
            "<ipython-input-22-01beb90bcc9b>:5: DeprecationWarning: `np.int` is a deprecated alias for the builtin `int`. To silence this warning, use `int` by itself. Doing this will not modify any behavior and is safe. When replacing `np.int`, you may wish to use e.g. `np.int64` or `np.int32` to specify the precision. If you wish to review your current use, check the release note link for additional information.\n",
            "Deprecated in NumPy 1.20; for more details and guidance: https://numpy.org/devdocs/release/1.20.0-notes.html#deprecations\n",
            "  data_array=data_array.astype(np.int)\n"
          ]
        },
        {
          "output_type": "execute_result",
          "data": {
            "text/plain": [
              "         id      date     price  bedrooms  bathrooms  sqft_living  sqft_lot  \\\n",
              "0  0.886126  20141013  221900.0 -0.398728  -1.447430    -0.979812 -0.228316   \n",
              "1  0.637496  20141209  538000.0 -0.398728   0.175603     0.533622 -0.189881   \n",
              "2  0.365435  20150225  180000.0 -1.473925  -1.447430    -1.426221 -0.123296   \n",
              "3 -0.727639  20141209  604000.0  0.676469   1.149422    -0.130547 -0.244009   \n",
              "4 -0.912860  20150218  510000.0 -0.398728  -0.149004    -0.435412 -0.169649   \n",
              "\n",
              "     floors  waterfront      view  ...     grade  sqft_above  sqft_basement  \\\n",
              "0 -0.915406   -0.087171 -0.305752  ... -0.558823   -0.734691      -0.658666   \n",
              "1  0.936484   -0.087171 -0.305752  ... -0.558823    0.460830       0.245136   \n",
              "2 -0.915406   -0.087171 -0.305752  ... -1.409554   -1.229805      -0.658666   \n",
              "3 -0.915406   -0.087171 -0.305752  ... -0.558823   -0.891678       1.397483   \n",
              "4 -0.915406   -0.087171 -0.305752  ...  0.291909   -0.130892      -0.658666   \n",
              "\n",
              "   yr_built  yr_renovated   zipcode       lat      long  sqft_living15  \\\n",
              "0 -0.544885     -0.210124  1.870108 -0.352564 -0.306072      -0.943333   \n",
              "1 -0.681063      4.746568  0.879547  1.161541 -0.746324      -0.432676   \n",
              "2 -1.293862     -0.210124 -0.933367  1.283507 -0.135652       1.070115   \n",
              "3 -0.204441     -0.210124  1.085135 -0.283281 -1.271787      -0.914153   \n",
              "4  0.544535     -0.210124 -0.073634  0.409541  1.199307      -0.272184   \n",
              "\n",
              "   sqft_lot15  \n",
              "0   -0.260709  \n",
              "1   -0.187863  \n",
              "2   -0.172371  \n",
              "3   -0.284515  \n",
              "4   -0.192844  \n",
              "\n",
              "[5 rows x 21 columns]"
            ],
            "text/html": [
              "\n",
              "  <div id=\"df-ba04f934-60d7-4b80-99f1-18539fd8c3e1\">\n",
              "    <div class=\"colab-df-container\">\n",
              "      <div>\n",
              "<style scoped>\n",
              "    .dataframe tbody tr th:only-of-type {\n",
              "        vertical-align: middle;\n",
              "    }\n",
              "\n",
              "    .dataframe tbody tr th {\n",
              "        vertical-align: top;\n",
              "    }\n",
              "\n",
              "    .dataframe thead th {\n",
              "        text-align: right;\n",
              "    }\n",
              "</style>\n",
              "<table border=\"1\" class=\"dataframe\">\n",
              "  <thead>\n",
              "    <tr style=\"text-align: right;\">\n",
              "      <th></th>\n",
              "      <th>id</th>\n",
              "      <th>date</th>\n",
              "      <th>price</th>\n",
              "      <th>bedrooms</th>\n",
              "      <th>bathrooms</th>\n",
              "      <th>sqft_living</th>\n",
              "      <th>sqft_lot</th>\n",
              "      <th>floors</th>\n",
              "      <th>waterfront</th>\n",
              "      <th>view</th>\n",
              "      <th>...</th>\n",
              "      <th>grade</th>\n",
              "      <th>sqft_above</th>\n",
              "      <th>sqft_basement</th>\n",
              "      <th>yr_built</th>\n",
              "      <th>yr_renovated</th>\n",
              "      <th>zipcode</th>\n",
              "      <th>lat</th>\n",
              "      <th>long</th>\n",
              "      <th>sqft_living15</th>\n",
              "      <th>sqft_lot15</th>\n",
              "    </tr>\n",
              "  </thead>\n",
              "  <tbody>\n",
              "    <tr>\n",
              "      <th>0</th>\n",
              "      <td>0.886126</td>\n",
              "      <td>20141013</td>\n",
              "      <td>221900.0</td>\n",
              "      <td>-0.398728</td>\n",
              "      <td>-1.447430</td>\n",
              "      <td>-0.979812</td>\n",
              "      <td>-0.228316</td>\n",
              "      <td>-0.915406</td>\n",
              "      <td>-0.087171</td>\n",
              "      <td>-0.305752</td>\n",
              "      <td>...</td>\n",
              "      <td>-0.558823</td>\n",
              "      <td>-0.734691</td>\n",
              "      <td>-0.658666</td>\n",
              "      <td>-0.544885</td>\n",
              "      <td>-0.210124</td>\n",
              "      <td>1.870108</td>\n",
              "      <td>-0.352564</td>\n",
              "      <td>-0.306072</td>\n",
              "      <td>-0.943333</td>\n",
              "      <td>-0.260709</td>\n",
              "    </tr>\n",
              "    <tr>\n",
              "      <th>1</th>\n",
              "      <td>0.637496</td>\n",
              "      <td>20141209</td>\n",
              "      <td>538000.0</td>\n",
              "      <td>-0.398728</td>\n",
              "      <td>0.175603</td>\n",
              "      <td>0.533622</td>\n",
              "      <td>-0.189881</td>\n",
              "      <td>0.936484</td>\n",
              "      <td>-0.087171</td>\n",
              "      <td>-0.305752</td>\n",
              "      <td>...</td>\n",
              "      <td>-0.558823</td>\n",
              "      <td>0.460830</td>\n",
              "      <td>0.245136</td>\n",
              "      <td>-0.681063</td>\n",
              "      <td>4.746568</td>\n",
              "      <td>0.879547</td>\n",
              "      <td>1.161541</td>\n",
              "      <td>-0.746324</td>\n",
              "      <td>-0.432676</td>\n",
              "      <td>-0.187863</td>\n",
              "    </tr>\n",
              "    <tr>\n",
              "      <th>2</th>\n",
              "      <td>0.365435</td>\n",
              "      <td>20150225</td>\n",
              "      <td>180000.0</td>\n",
              "      <td>-1.473925</td>\n",
              "      <td>-1.447430</td>\n",
              "      <td>-1.426221</td>\n",
              "      <td>-0.123296</td>\n",
              "      <td>-0.915406</td>\n",
              "      <td>-0.087171</td>\n",
              "      <td>-0.305752</td>\n",
              "      <td>...</td>\n",
              "      <td>-1.409554</td>\n",
              "      <td>-1.229805</td>\n",
              "      <td>-0.658666</td>\n",
              "      <td>-1.293862</td>\n",
              "      <td>-0.210124</td>\n",
              "      <td>-0.933367</td>\n",
              "      <td>1.283507</td>\n",
              "      <td>-0.135652</td>\n",
              "      <td>1.070115</td>\n",
              "      <td>-0.172371</td>\n",
              "    </tr>\n",
              "    <tr>\n",
              "      <th>3</th>\n",
              "      <td>-0.727639</td>\n",
              "      <td>20141209</td>\n",
              "      <td>604000.0</td>\n",
              "      <td>0.676469</td>\n",
              "      <td>1.149422</td>\n",
              "      <td>-0.130547</td>\n",
              "      <td>-0.244009</td>\n",
              "      <td>-0.915406</td>\n",
              "      <td>-0.087171</td>\n",
              "      <td>-0.305752</td>\n",
              "      <td>...</td>\n",
              "      <td>-0.558823</td>\n",
              "      <td>-0.891678</td>\n",
              "      <td>1.397483</td>\n",
              "      <td>-0.204441</td>\n",
              "      <td>-0.210124</td>\n",
              "      <td>1.085135</td>\n",
              "      <td>-0.283281</td>\n",
              "      <td>-1.271787</td>\n",
              "      <td>-0.914153</td>\n",
              "      <td>-0.284515</td>\n",
              "    </tr>\n",
              "    <tr>\n",
              "      <th>4</th>\n",
              "      <td>-0.912860</td>\n",
              "      <td>20150218</td>\n",
              "      <td>510000.0</td>\n",
              "      <td>-0.398728</td>\n",
              "      <td>-0.149004</td>\n",
              "      <td>-0.435412</td>\n",
              "      <td>-0.169649</td>\n",
              "      <td>-0.915406</td>\n",
              "      <td>-0.087171</td>\n",
              "      <td>-0.305752</td>\n",
              "      <td>...</td>\n",
              "      <td>0.291909</td>\n",
              "      <td>-0.130892</td>\n",
              "      <td>-0.658666</td>\n",
              "      <td>0.544535</td>\n",
              "      <td>-0.210124</td>\n",
              "      <td>-0.073634</td>\n",
              "      <td>0.409541</td>\n",
              "      <td>1.199307</td>\n",
              "      <td>-0.272184</td>\n",
              "      <td>-0.192844</td>\n",
              "    </tr>\n",
              "  </tbody>\n",
              "</table>\n",
              "<p>5 rows × 21 columns</p>\n",
              "</div>\n",
              "      <button class=\"colab-df-convert\" onclick=\"convertToInteractive('df-ba04f934-60d7-4b80-99f1-18539fd8c3e1')\"\n",
              "              title=\"Convert this dataframe to an interactive table.\"\n",
              "              style=\"display:none;\">\n",
              "        \n",
              "  <svg xmlns=\"http://www.w3.org/2000/svg\" height=\"24px\"viewBox=\"0 0 24 24\"\n",
              "       width=\"24px\">\n",
              "    <path d=\"M0 0h24v24H0V0z\" fill=\"none\"/>\n",
              "    <path d=\"M18.56 5.44l.94 2.06.94-2.06 2.06-.94-2.06-.94-.94-2.06-.94 2.06-2.06.94zm-11 1L8.5 8.5l.94-2.06 2.06-.94-2.06-.94L8.5 2.5l-.94 2.06-2.06.94zm10 10l.94 2.06.94-2.06 2.06-.94-2.06-.94-.94-2.06-.94 2.06-2.06.94z\"/><path d=\"M17.41 7.96l-1.37-1.37c-.4-.4-.92-.59-1.43-.59-.52 0-1.04.2-1.43.59L10.3 9.45l-7.72 7.72c-.78.78-.78 2.05 0 2.83L4 21.41c.39.39.9.59 1.41.59.51 0 1.02-.2 1.41-.59l7.78-7.78 2.81-2.81c.8-.78.8-2.07 0-2.86zM5.41 20L4 18.59l7.72-7.72 1.47 1.35L5.41 20z\"/>\n",
              "  </svg>\n",
              "      </button>\n",
              "      \n",
              "  <style>\n",
              "    .colab-df-container {\n",
              "      display:flex;\n",
              "      flex-wrap:wrap;\n",
              "      gap: 12px;\n",
              "    }\n",
              "\n",
              "    .colab-df-convert {\n",
              "      background-color: #E8F0FE;\n",
              "      border: none;\n",
              "      border-radius: 50%;\n",
              "      cursor: pointer;\n",
              "      display: none;\n",
              "      fill: #1967D2;\n",
              "      height: 32px;\n",
              "      padding: 0 0 0 0;\n",
              "      width: 32px;\n",
              "    }\n",
              "\n",
              "    .colab-df-convert:hover {\n",
              "      background-color: #E2EBFA;\n",
              "      box-shadow: 0px 1px 2px rgba(60, 64, 67, 0.3), 0px 1px 3px 1px rgba(60, 64, 67, 0.15);\n",
              "      fill: #174EA6;\n",
              "    }\n",
              "\n",
              "    [theme=dark] .colab-df-convert {\n",
              "      background-color: #3B4455;\n",
              "      fill: #D2E3FC;\n",
              "    }\n",
              "\n",
              "    [theme=dark] .colab-df-convert:hover {\n",
              "      background-color: #434B5C;\n",
              "      box-shadow: 0px 1px 3px 1px rgba(0, 0, 0, 0.15);\n",
              "      filter: drop-shadow(0px 1px 2px rgba(0, 0, 0, 0.3));\n",
              "      fill: #FFFFFF;\n",
              "    }\n",
              "  </style>\n",
              "\n",
              "      <script>\n",
              "        const buttonEl =\n",
              "          document.querySelector('#df-ba04f934-60d7-4b80-99f1-18539fd8c3e1 button.colab-df-convert');\n",
              "        buttonEl.style.display =\n",
              "          google.colab.kernel.accessAllowed ? 'block' : 'none';\n",
              "\n",
              "        async function convertToInteractive(key) {\n",
              "          const element = document.querySelector('#df-ba04f934-60d7-4b80-99f1-18539fd8c3e1');\n",
              "          const dataTable =\n",
              "            await google.colab.kernel.invokeFunction('convertToInteractive',\n",
              "                                                     [key], {});\n",
              "          if (!dataTable) return;\n",
              "\n",
              "          const docLinkHtml = 'Like what you see? Visit the ' +\n",
              "            '<a target=\"_blank\" href=https://colab.research.google.com/notebooks/data_table.ipynb>data table notebook</a>'\n",
              "            + ' to learn more about interactive tables.';\n",
              "          element.innerHTML = '';\n",
              "          dataTable['output_type'] = 'display_data';\n",
              "          await google.colab.output.renderOutput(dataTable, element);\n",
              "          const docLink = document.createElement('div');\n",
              "          docLink.innerHTML = docLinkHtml;\n",
              "          element.appendChild(docLink);\n",
              "        }\n",
              "      </script>\n",
              "    </div>\n",
              "  </div>\n",
              "  "
            ]
          },
          "metadata": {},
          "execution_count": 22
        }
      ]
    },
    {
      "cell_type": "code",
      "source": [
        "mean_array = np.mean(data_array,0)                                        # this should be an array, each entry should be mean of a column\n",
        "sd_array = np.mean(data_array,0)                                    # this should be an array, each entry should be standard deviation of a column\n",
        "\n",
        "data_array_norm = (data_array - mean_array)/sd_array\n",
        "print(data_array_norm)\n",
        "\n",
        "print(data_array_norm.shape)\n"
      ],
      "metadata": {
        "colab": {
          "base_uri": "https://localhost:8080/"
        },
        "id": "9446aiIZvk6B",
        "outputId": "d77a61d1-61a5-4655-cbae-a6cf89a5cc54"
      },
      "execution_count": null,
      "outputs": [
        {
          "output_type": "stream",
          "name": "stdout",
          "text": [
            "[[-1.43451262e-04 -5.89141137e-01 -1.00000000e+00 ... -1.00000000e+00\n",
            "  -1.00000000e+00 -1.00000000e+00]\n",
            " [-1.33721270e-04 -3.86629812e-03 -1.00000000e+00 ... -1.00000000e+00\n",
            "  -1.00000000e+00 -1.00000000e+00]\n",
            " [ 3.13858335e-04 -6.66721066e-01  2.63582278e+01 ... -1.00000000e+00\n",
            "   1.08687534e+01 -1.00000000e+00]\n",
            " ...\n",
            " [-1.62811959e-04 -2.55490042e-01  2.63582278e+01 ... -1.00000000e+00\n",
            "  -1.28687534e+01 -1.00000000e+00]\n",
            " [ 3.08447268e-04 -2.59380147e-01 -1.00000000e+00 ...  1.55237003e+01\n",
            "  -1.00000000e+00 -1.00000000e+00]\n",
            " [-1.43351976e-04 -3.98246370e-01  2.63582278e+01 ... -1.00000000e+00\n",
            "  -1.28687534e+01 -1.00000000e+00]]\n",
            "(21613, 20)\n"
          ]
        }
      ]
    },
    {
      "cell_type": "code",
      "source": [
        "labels = data_array_norm[:,1]                                                                                                            # extract the price column from data\n",
        "\n",
        "x_array_norm = np.delete(data_array_norm,1,1)                                                                                                      # delete the price column from data_array_norm. Hint: use np.delete()\n",
        "\n",
        "x_train, x_test, y_train, y_test = train_test_split(x_array_norm,labels,test_size=0.15,random_state=42,shuffle=True)    # splitting data into test and train set.\n",
        "\n",
        "print(x_train.shape,x_test.shape,y_train.shape,y_test.shape)"
      ],
      "metadata": {
        "colab": {
          "base_uri": "https://localhost:8080/"
        },
        "id": "xMsmr3QEwLeP",
        "outputId": "f04efdc8-30c9-4f8b-84c7-df6c8517ee69"
      },
      "execution_count": null,
      "outputs": [
        {
          "output_type": "stream",
          "name": "stdout",
          "text": [
            "(18371, 19) (3242, 19) (18371,) (3242,)\n"
          ]
        }
      ]
    },
    {
      "cell_type": "code",
      "source": [
        "def loss(y_pred,y_true):\n",
        "\n",
        "  mse = np.mean(np.square(np.subtract(y_true,y_pred)))     \n",
        "\n",
        "\n",
        "  return mse"
      ],
      "metadata": {
        "id": "6D5J3DjaxNkT"
      },
      "execution_count": null,
      "outputs": []
    },
    {
      "cell_type": "code",
      "source": [
        "def y(x,a,b):\n",
        "  m,n = x.shape\n",
        "  \n",
        "  y_pred = np.dot(x,a) + b\n",
        "  y_pred = y_pred.astype(np.float)\n",
        "  return y_pred"
      ],
      "metadata": {
        "id": "CqdIo_0FxR-p"
      },
      "execution_count": null,
      "outputs": []
    },
    {
      "cell_type": "code",
      "source": [
        "def gradient(x,a,b,y_true):\n",
        "  m,n = x.shape\n",
        "  yp = y(x,a,b)\n",
        "  y_true = y_true.astype(np.float)\n",
        "  d=[1]*n\n",
        "  for k in range(0,n,1):\n",
        "    d[k] = 2*np.mean(x[:,k]*np.subtract(yp,y_true))\n",
        "  da = np.array(d)              \n",
        "  db = 2*np.mean(np.subtract(yp,y_true))             \n",
        "\n",
        "  assert(da.shape ==(n,))\n",
        "  return (da,db)"
      ],
      "metadata": {
        "id": "56XBatl1xa2x"
      },
      "execution_count": null,
      "outputs": []
    },
    {
      "cell_type": "code",
      "source": [
        "def gradient_descent(x,y_true,learning_rate=0.01,epochs = 100):\n",
        "  m,n = x.shape\n",
        "  loss_mse = []\n",
        "  v = [0]*n                                 \n",
        "  a = np.array(v) \n",
        "  n, = a.shape                            \n",
        "  b = 0 \n",
        "\n",
        "  for i in range(epochs):\n",
        "    for j in range(0,n,1):\n",
        "      a[j] = a[j] - learning_rate*gradient(x,a,b,y_true)[0][j]\n",
        "    b = b - learning_rate*gradient(x,a,b,y_true)[1]\n",
        "\n",
        "    l_mse = loss(y(x,a,b),y_true)                                \n",
        "    loss_mse.append(l_mse)\n",
        "\n",
        "    print(\"Epoch \",i+1,\" Completed!\",\"loss = \",l_mse)\n",
        "  \n",
        "  print(\"Training completed!!\")\n",
        "\n",
        "  assert(a.shape==(n,))\n",
        "\n",
        "  return (loss_mse,a,b)"
      ],
      "metadata": {
        "id": "VMlRF6BfxnvY"
      },
      "execution_count": null,
      "outputs": []
    },
    {
      "cell_type": "code",
      "source": [
        "epochs = 100              \n",
        "learn_rate = 0.01        \n",
        "\n",
        "train_loss,a,b = gradient_descent(x_train,y_train,learn_rate,epochs)"
      ],
      "metadata": {
        "colab": {
          "base_uri": "https://localhost:8080/"
        },
        "id": "NNNH6f_kx4U8",
        "outputId": "ed85f64d-1209-4606-c163-4e221ff073f3"
      },
      "execution_count": null,
      "outputs": [
        {
          "output_type": "stream",
          "name": "stderr",
          "text": [
            "<ipython-input-26-1080f616bc39>:5: DeprecationWarning: `np.float` is a deprecated alias for the builtin `float`. To silence this warning, use `float` by itself. Doing this will not modify any behavior and is safe. If you specifically wanted the numpy scalar type, use `np.float64` here.\n",
            "Deprecated in NumPy 1.20; for more details and guidance: https://numpy.org/devdocs/release/1.20.0-notes.html#deprecations\n",
            "  y_pred = y_pred.astype(np.float)\n",
            "<ipython-input-27-51dc0908954a>:4: DeprecationWarning: `np.float` is a deprecated alias for the builtin `float`. To silence this warning, use `float` by itself. Doing this will not modify any behavior and is safe. If you specifically wanted the numpy scalar type, use `np.float64` here.\n",
            "Deprecated in NumPy 1.20; for more details and guidance: https://numpy.org/devdocs/release/1.20.0-notes.html#deprecations\n",
            "  y_true = y_true.astype(np.float)\n"
          ]
        },
        {
          "output_type": "stream",
          "name": "stdout",
          "text": [
            "Epoch  1  Completed! loss =  0.45118433923506135\n",
            "Epoch  2  Completed! loss =  0.45118390541102477\n",
            "Epoch  3  Completed! loss =  0.45118348876642\n",
            "Epoch  4  Completed! loss =  0.4511830886209416\n",
            "Epoch  5  Completed! loss =  0.4511827043212241\n",
            "Epoch  6  Completed! loss =  0.45118233523977547\n",
            "Epoch  7  Completed! loss =  0.45118198077395216\n",
            "Epoch  8  Completed! loss =  0.4511816403449755\n",
            "Epoch  9  Completed! loss =  0.4511813133969863\n",
            "Epoch  10  Completed! loss =  0.45118099939613754\n",
            "Epoch  11  Completed! loss =  0.4511806978297223\n",
            "Epoch  12  Completed! loss =  0.4511804082053371\n",
            "Epoch  13  Completed! loss =  0.4511801300500775\n",
            "Epoch  14  Completed! loss =  0.4511798629097663\n",
            "Epoch  15  Completed! loss =  0.45117960634821136\n",
            "Epoch  16  Completed! loss =  0.451179359946494\n",
            "Epoch  17  Completed! loss =  0.45117912330228466\n",
            "Epoch  18  Completed! loss =  0.45117889602918604\n",
            "Epoch  19  Completed! loss =  0.4511786777561021\n",
            "Epoch  20  Completed! loss =  0.45117846812663226\n",
            "Epoch  21  Completed! loss =  0.45117826679848955\n",
            "Epoch  22  Completed! loss =  0.4511780734429411\n",
            "Epoch  23  Completed! loss =  0.4511778877442725\n",
            "Epoch  24  Completed! loss =  0.4511777093992711\n",
            "Epoch  25  Completed! loss =  0.4511775381167317\n",
            "Epoch  26  Completed! loss =  0.45117737361698096\n",
            "Epoch  27  Completed! loss =  0.4511772156314203\n",
            "Epoch  28  Completed! loss =  0.451177063902088\n",
            "Epoch  29  Completed! loss =  0.4511769181812371\n",
            "Epoch  30  Completed! loss =  0.45117677823093194\n",
            "Epoch  31  Completed! loss =  0.4511766438226588\n",
            "Epoch  32  Completed! loss =  0.45117651473695336\n",
            "Epoch  33  Completed! loss =  0.45117639076304183\n",
            "Epoch  34  Completed! loss =  0.4511762716984972\n",
            "Epoch  35  Completed! loss =  0.45117615734890854\n",
            "Epoch  36  Completed! loss =  0.45117604752756363\n",
            "Epoch  37  Completed! loss =  0.4511759420551439\n",
            "Epoch  38  Completed! loss =  0.451175840759432\n",
            "Epoch  39  Completed! loss =  0.45117574347503037\n",
            "Epoch  40  Completed! loss =  0.45117565004309096\n",
            "Epoch  41  Completed! loss =  0.45117556031105643\n",
            "Epoch  42  Completed! loss =  0.4511754741324104\n",
            "Epoch  43  Completed! loss =  0.45117539136643875\n",
            "Epoch  44  Completed! loss =  0.45117531187799964\n",
            "Epoch  45  Completed! loss =  0.45117523553730254\n",
            "Epoch  46  Completed! loss =  0.45117516221969717\n",
            "Epoch  47  Completed! loss =  0.4511750918054691\n",
            "Epoch  48  Completed! loss =  0.45117502417964434\n",
            "Epoch  49  Completed! loss =  0.45117495923180223\n",
            "Epoch  50  Completed! loss =  0.4511748968558948\n",
            "Epoch  51  Completed! loss =  0.45117483695007315\n",
            "Epoch  52  Completed! loss =  0.451174779416522\n",
            "Epoch  53  Completed! loss =  0.4511747241612996\n",
            "Epoch  54  Completed! loss =  0.45117467109418397\n",
            "Epoch  55  Completed! loss =  0.451174620128526\n",
            "Epoch  56  Completed! loss =  0.45117457118110826\n",
            "Epoch  57  Completed! loss =  0.45117452417200815\n",
            "Epoch  58  Completed! loss =  0.45117447902446844\n",
            "Epoch  59  Completed! loss =  0.4511744356647714\n",
            "Epoch  60  Completed! loss =  0.45117439402211823\n",
            "Epoch  61  Completed! loss =  0.4511743540285142\n",
            "Epoch  62  Completed! loss =  0.4511743156186569\n",
            "Epoch  63  Completed! loss =  0.45117427872982985\n",
            "Epoch  64  Completed! loss =  0.4511742433018004\n",
            "Epoch  65  Completed! loss =  0.45117420927672097\n",
            "Epoch  66  Completed! loss =  0.4511741765990346\n",
            "Epoch  67  Completed! loss =  0.4511741452153846\n",
            "Epoch  68  Completed! loss =  0.4511741150745272\n",
            "Epoch  69  Completed! loss =  0.4511740861272478\n",
            "Epoch  70  Completed! loss =  0.4511740583262806\n",
            "Epoch  71  Completed! loss =  0.4511740316262316\n",
            "Epoch  72  Completed! loss =  0.4511740059835047\n",
            "Epoch  73  Completed! loss =  0.4511739813562297\n",
            "Epoch  74  Completed! loss =  0.4511739577041949\n",
            "Epoch  75  Completed! loss =  0.45117393498878056\n",
            "Epoch  76  Completed! loss =  0.4511739131728967\n",
            "Epoch  77  Completed! loss =  0.4511738922209218\n",
            "Epoch  78  Completed! loss =  0.4511738720986452\n",
            "Epoch  79  Completed! loss =  0.45117385277321065\n",
            "Epoch  80  Completed! loss =  0.4511738342130633\n",
            "Epoch  81  Completed! loss =  0.4511738163878978\n",
            "Epoch  82  Completed! loss =  0.45117379926860895\n",
            "Epoch  83  Completed! loss =  0.45117378282724374\n",
            "Epoch  84  Completed! loss =  0.4511737670369568\n",
            "Epoch  85  Completed! loss =  0.45117375187196507\n",
            "Epoch  86  Completed! loss =  0.45117373730750715\n",
            "Epoch  87  Completed! loss =  0.4511737233198016\n",
            "Epoch  88  Completed! loss =  0.4511737098860093\n",
            "Epoch  89  Completed! loss =  0.4511736969841952\n",
            "Epoch  90  Completed! loss =  0.4511736845932928\n",
            "Epoch  91  Completed! loss =  0.4511736726930703\n",
            "Epoch  92  Completed! loss =  0.4511736612640966\n",
            "Epoch  93  Completed! loss =  0.4511736502877101\n",
            "Epoch  94  Completed! loss =  0.45117363974598856\n",
            "Epoch  95  Completed! loss =  0.4511736296217193\n",
            "Epoch  96  Completed! loss =  0.451173619898371\n",
            "Epoch  97  Completed! loss =  0.4511736105600674\n",
            "Epoch  98  Completed! loss =  0.45117360159156056\n",
            "Epoch  99  Completed! loss =  0.45117359297820653\n",
            "Epoch  100  Completed! loss =  0.4511735847059413\n",
            "Training completed!!\n"
          ]
        }
      ]
    },
    {
      "cell_type": "code",
      "source": [
        "test_loss = gradient_descent(x_test,y_test,learn_rate,epochs)\n",
        "print(\"Loss on test data = \",test_loss)\n",
        "epo=np.linspace(0,epochs,epochs)\n",
        "\n",
        "plt.plot(epo,test_loss[0])                 \n",
        "plt.title(\"Training Loss\")\n",
        "plt.xlabel(\"Epochs\")\n",
        "plt.ylabel(\"Loss\")\n",
        "plt.show()\n",
        "\n"
      ],
      "metadata": {
        "colab": {
          "base_uri": "https://localhost:8080/",
          "height": 1000
        },
        "id": "elKSyGSG15N-",
        "outputId": "62bca49d-7625-42a8-bb2c-a2b3c499ee80"
      },
      "execution_count": null,
      "outputs": [
        {
          "output_type": "stream",
          "name": "stderr",
          "text": [
            "<ipython-input-26-1080f616bc39>:5: DeprecationWarning: `np.float` is a deprecated alias for the builtin `float`. To silence this warning, use `float` by itself. Doing this will not modify any behavior and is safe. If you specifically wanted the numpy scalar type, use `np.float64` here.\n",
            "Deprecated in NumPy 1.20; for more details and guidance: https://numpy.org/devdocs/release/1.20.0-notes.html#deprecations\n",
            "  y_pred = y_pred.astype(np.float)\n",
            "<ipython-input-27-51dc0908954a>:4: DeprecationWarning: `np.float` is a deprecated alias for the builtin `float`. To silence this warning, use `float` by itself. Doing this will not modify any behavior and is safe. If you specifically wanted the numpy scalar type, use `np.float64` here.\n",
            "Deprecated in NumPy 1.20; for more details and guidance: https://numpy.org/devdocs/release/1.20.0-notes.html#deprecations\n",
            "  y_true = y_true.astype(np.float)\n"
          ]
        },
        {
          "output_type": "stream",
          "name": "stdout",
          "text": [
            "Epoch  1  Completed! loss =  0.5235667499835867\n",
            "Epoch  2  Completed! loss =  0.5235528199172582\n",
            "Epoch  3  Completed! loss =  0.5235394414815564\n",
            "Epoch  4  Completed! loss =  0.5235265928319085\n",
            "Epoch  5  Completed! loss =  0.5235142529887866\n",
            "Epoch  6  Completed! loss =  0.5235024018034523\n",
            "Epoch  7  Completed! loss =  0.5234910199250573\n",
            "Epoch  8  Completed! loss =  0.5234800887690468\n",
            "Epoch  9  Completed! loss =  0.5234695904868142\n",
            "Epoch  10  Completed! loss =  0.5234595079365579\n",
            "Epoch  11  Completed! loss =  0.523449824655292\n",
            "Epoch  12  Completed! loss =  0.523440524831964\n",
            "Epoch  13  Completed! loss =  0.52343159328164\n",
            "Epoch  14  Completed! loss =  0.5234230154207088\n",
            "Epoch  15  Completed! loss =  0.5234147772430704\n",
            "Epoch  16  Completed! loss =  0.5234068652972664\n",
            "Epoch  17  Completed! loss =  0.5233992666645164\n",
            "Epoch  18  Completed! loss =  0.5233919689376232\n",
            "Epoch  19  Completed! loss =  0.523384960200715\n",
            "Epoch  20  Completed! loss =  0.5233782290097884\n",
            "Epoch  21  Completed! loss =  0.5233717643740223\n",
            "Epoch  22  Completed! loss =  0.5233655557378328\n",
            "Epoch  23  Completed! loss =  0.5233595929636364\n",
            "Epoch  24  Completed! loss =  0.5233538663152979\n",
            "Epoch  25  Completed! loss =  0.5233483664422338\n",
            "Epoch  26  Completed! loss =  0.5233430843641431\n",
            "Epoch  27  Completed! loss =  0.5233380114563446\n",
            "Epoch  28  Completed! loss =  0.5233331394356951\n",
            "Epoch  29  Completed! loss =  0.5233284603470633\n",
            "Epoch  30  Completed! loss =  0.5233239665503412\n",
            "Epoch  31  Completed! loss =  0.5233196507079694\n",
            "Epoch  32  Completed! loss =  0.5233155057729555\n",
            "Epoch  33  Completed! loss =  0.5233115249773681\n",
            "Epoch  34  Completed! loss =  0.523307701821286\n",
            "Epoch  35  Completed! loss =  0.5233040300621847\n",
            "Epoch  36  Completed! loss =  0.5233005037047439\n",
            "Epoch  37  Completed! loss =  0.5232971169910577\n",
            "Epoch  38  Completed! loss =  0.5232938643912336\n",
            "Epoch  39  Completed! loss =  0.5232907405943624\n",
            "Epoch  40  Completed! loss =  0.5232877404998473\n",
            "Epoch  41  Completed! loss =  0.5232848592090751\n",
            "Epoch  42  Completed! loss =  0.5232820920174174\n",
            "Epoch  43  Completed! loss =  0.5232794344065493\n",
            "Epoch  44  Completed! loss =  0.5232768820370716\n",
            "Epoch  45  Completed! loss =  0.5232744307414252\n",
            "Epoch  46  Completed! loss =  0.5232720765170864\n",
            "Epoch  47  Completed! loss =  0.5232698155200316\n",
            "Epoch  48  Completed! loss =  0.52326764405846\n",
            "Epoch  49  Completed! loss =  0.5232655585867666\n",
            "Epoch  50  Completed! loss =  0.5232635556997524\n",
            "Epoch  51  Completed! loss =  0.5232616321270639\n",
            "Epoch  52  Completed! loss =  0.5232597847278537\n",
            "Epoch  53  Completed! loss =  0.5232580104856525\n",
            "Epoch  54  Completed! loss =  0.5232563065034422\n",
            "Epoch  55  Completed! loss =  0.5232546699989277\n",
            "Epoch  56  Completed! loss =  0.5232530982999918\n",
            "Epoch  57  Completed! loss =  0.5232515888403338\n",
            "Epoch  58  Completed! loss =  0.5232501391552783\n",
            "Epoch  59  Completed! loss =  0.5232487468777509\n",
            "Epoch  60  Completed! loss =  0.5232474097344136\n",
            "Epoch  61  Completed! loss =  0.5232461255419526\n",
            "Epoch  62  Completed! loss =  0.5232448922035129\n",
            "Epoch  63  Completed! loss =  0.5232437077052754\n",
            "Epoch  64  Completed! loss =  0.5232425701131682\n",
            "Epoch  65  Completed! loss =  0.5232414775697085\n",
            "Epoch  66  Completed! loss =  0.5232404282909697\n",
            "Epoch  67  Completed! loss =  0.523239420563669\n",
            "Epoch  68  Completed! loss =  0.5232384527423694\n",
            "Epoch  69  Completed! loss =  0.5232375232467932\n",
            "Epoch  70  Completed! loss =  0.5232366305592419\n",
            "Epoch  71  Completed! loss =  0.5232357732221176\n",
            "Epoch  72  Completed! loss =  0.5232349498355434\n",
            "Epoch  73  Completed! loss =  0.5232341590550775\n",
            "Epoch  74  Completed! loss =  0.5232333995895182\n",
            "Epoch  75  Completed! loss =  0.5232326701987949\n",
            "Epoch  76  Completed! loss =  0.5232319696919443\n",
            "Epoch  77  Completed! loss =  0.523231296925165\n",
            "Epoch  78  Completed! loss =  0.5232306507999501\n",
            "Epoch  79  Completed! loss =  0.5232300302612938\n",
            "Epoch  80  Completed! loss =  0.5232294342959682\n",
            "Epoch  81  Completed! loss =  0.5232288619308695\n",
            "Epoch  82  Completed! loss =  0.5232283122314287\n",
            "Epoch  83  Completed! loss =  0.5232277843000859\n",
            "Epoch  84  Completed! loss =  0.5232272772748241\n",
            "Epoch  85  Completed! loss =  0.5232267903277628\n",
            "Epoch  86  Completed! loss =  0.5232263226638051\n",
            "Epoch  87  Completed! loss =  0.5232258735193401\n",
            "Epoch  88  Completed! loss =  0.523225442160996\n",
            "Epoch  89  Completed! loss =  0.5232250278844421\n",
            "Epoch  90  Completed! loss =  0.5232246300132398\n",
            "Epoch  91  Completed! loss =  0.5232242478977374\n",
            "Epoch  92  Completed! loss =  0.5232238809140085\n",
            "Epoch  93  Completed! loss =  0.5232235284628355\n",
            "Epoch  94  Completed! loss =  0.5232231899687289\n",
            "Epoch  95  Completed! loss =  0.523222864878989\n",
            "Epoch  96  Completed! loss =  0.5232225526628027\n",
            "Epoch  97  Completed! loss =  0.5232222528103773\n",
            "Epoch  98  Completed! loss =  0.523221964832108\n",
            "Epoch  99  Completed! loss =  0.5232216882577782\n",
            "Epoch  100  Completed! loss =  0.5232214226357919\n",
            "Training completed!!\n",
            "Loss on test data =  ([0.5235667499835867, 0.5235528199172582, 0.5235394414815564, 0.5235265928319085, 0.5235142529887866, 0.5235024018034523, 0.5234910199250573, 0.5234800887690468, 0.5234695904868142, 0.5234595079365579, 0.523449824655292, 0.523440524831964, 0.52343159328164, 0.5234230154207088, 0.5234147772430704, 0.5234068652972664, 0.5233992666645164, 0.5233919689376232, 0.523384960200715, 0.5233782290097884, 0.5233717643740223, 0.5233655557378328, 0.5233595929636364, 0.5233538663152979, 0.5233483664422338, 0.5233430843641431, 0.5233380114563446, 0.5233331394356951, 0.5233284603470633, 0.5233239665503412, 0.5233196507079694, 0.5233155057729555, 0.5233115249773681, 0.523307701821286, 0.5233040300621847, 0.5233005037047439, 0.5232971169910577, 0.5232938643912336, 0.5232907405943624, 0.5232877404998473, 0.5232848592090751, 0.5232820920174174, 0.5232794344065493, 0.5232768820370716, 0.5232744307414252, 0.5232720765170864, 0.5232698155200316, 0.52326764405846, 0.5232655585867666, 0.5232635556997524, 0.5232616321270639, 0.5232597847278537, 0.5232580104856525, 0.5232563065034422, 0.5232546699989277, 0.5232530982999918, 0.5232515888403338, 0.5232501391552783, 0.5232487468777509, 0.5232474097344136, 0.5232461255419526, 0.5232448922035129, 0.5232437077052754, 0.5232425701131682, 0.5232414775697085, 0.5232404282909697, 0.523239420563669, 0.5232384527423694, 0.5232375232467932, 0.5232366305592419, 0.5232357732221176, 0.5232349498355434, 0.5232341590550775, 0.5232333995895182, 0.5232326701987949, 0.5232319696919443, 0.523231296925165, 0.5232306507999501, 0.5232300302612938, 0.5232294342959682, 0.5232288619308695, 0.5232283122314287, 0.5232277843000859, 0.5232272772748241, 0.5232267903277628, 0.5232263226638051, 0.5232258735193401, 0.523225442160996, 0.5232250278844421, 0.5232246300132398, 0.5232242478977374, 0.5232238809140085, 0.5232235284628355, 0.5232231899687289, 0.523222864878989, 0.5232225526628027, 0.5232222528103773, 0.523221964832108, 0.5232216882577782, 0.5232214226357919], array([0, 0, 0, 0, 0, 0, 0, 0, 0, 0, 0, 0, 0, 0, 0, 0, 0, 0, 0]), 0.016600170544753698)\n"
          ]
        },
        {
          "output_type": "display_data",
          "data": {
            "text/plain": [
              "<Figure size 640x480 with 1 Axes>"
            ],
            "image/png": "[encoded data removed]"
          },
          "metadata": {}
        }
      ]
    },
    {
      "cell_type": "code",
      "source": [
        "import pandas as pd\n",
        "import numpy as np\n",
        "from tensorflow import keras\n",
        "from tensorflow.keras import layers\n",
        "import matplotlib.pyplot as plt\n",
        "from sklearn.model_selection import train_test_split"
      ],
      "metadata": {
        "id": "CTZMbOMO2Oz7"
      },
      "execution_count": null,
      "outputs": []
    },
    {
      "cell_type": "code",
      "source": [
        "mnist = keras.datasets.mnist\n",
        "(x_train, y_train), (x_test, y_test) = mnist.load_data()\n",
        "print(\"No. of training examples = \",x_train.shape[0])\n",
        "print(\"Size of each image in dataset = \",x_train.shape[1:])\n",
        "print(\"No. of test examples = \",x_test.shape[0])"
      ],
      "metadata": {
        "colab": {
          "base_uri": "https://localhost:8080/"
        },
        "id": "LZymbK6B2gD5",
        "outputId": "2004a787-1580-43e5-8839-06c4cb42f9c2"
      },
      "execution_count": null,
      "outputs": [
        {
          "output_type": "stream",
          "name": "stdout",
          "text": [
            "Downloading data from https://storage.googleapis.com/tensorflow/tf-keras-datasets/mnist.npz\n",
            "11490434/11490434 [==============================] - 0s 0us/step\n",
            "No. of training examples =  60000\n",
            "Size of each image in dataset =  (28, 28)\n",
            "No. of test examples =  10000\n"
          ]
        }
      ]
    },
    {
      "cell_type": "code",
      "source": [
        "n = 5   \n",
        "\n",
        "index = np.random.choice(x_train.shape[0],5)  \n",
        "print(\"label: \",end=\"\")\n",
        "\n",
        "for i,ind in enumerate(index):\n",
        "    plt.subplot(1,n,i+1)\n",
        "    plt.imshow(x_train[ind],cmap=\"gray\")\n",
        "    plt.axis(\"off\")\n",
        "    print(y_train[ind],end=\"       \")\n",
        "\n",
        "plt.show()\n"
      ],
      "metadata": {
        "colab": {
          "base_uri": "https://localhost:8080/",
          "height": 139
        },
        "id": "qsh2GqWT2olw",
        "outputId": "b2d2a536-0b6a-4c3f-d964-de35b531e715"
      },
      "execution_count": null,
      "outputs": [
        {
          "output_type": "stream",
          "name": "stdout",
          "text": [
            "label: 1       3       4       2       8       "
          ]
        },
        {
          "output_type": "display_data",
          "data": {
            "text/plain": [
              "<Figure size 640x480 with 5 Axes>"
            ],
            "image/png": "[encoded data removed]"
          },
          "metadata": {}
        }
      ]
    },
    {
      "cell_type": "code",
      "source": [
        "x_train = x_train/256\n",
        "x_test = x_test/256\n",
        "\n",
        "x_train_flatten = x_train.reshape(60000,784)  \n",
        "x_test                                   \n",
        "x_test_flatten = x_test.reshape(10000,784)                                  \n",
        "\n",
        "n_validation = 10000 \n",
        "x_train, x_validation, y_train, y_validation = train_test_split(x_train,y_train,test_size=1/6,random_state=42,shuffle=True)\n",
        "x_validation = x_validation.reshape(10000,784)\n",
        "x_train_flatten = x_train.reshape(50000,784)                                   \n",
        "print(x_train.shape, y_train.shape)\n"
      ],
      "metadata": {
        "colab": {
          "base_uri": "https://localhost:8080/"
        },
        "id": "4C2XWrcw2ukZ",
        "outputId": "7f18daae-c2ee-47be-fd5c-8ab5f6b9eb95"
      },
      "execution_count": null,
      "outputs": [
        {
          "output_type": "stream",
          "name": "stdout",
          "text": [
            "(50000, 28, 28) (50000,)\n"
          ]
        }
      ]
    },
    {
      "cell_type": "code",
      "source": [
        "model = keras.models.Sequential([\n",
        "    keras.layers.Dense(10, input_shape=(784,), activation='sigmoid')]\n",
        "    )\n",
        "\n",
        "\n",
        "keras.utils.plot_model(model,show_shapes=True)\n",
        "model.summary"
      ],
      "metadata": {
        "colab": {
          "base_uri": "https://localhost:8080/"
        },
        "id": "D_kYY0uN267Z",
        "outputId": "cbe14dd6-c275-457b-d9f9-84e26ef1032a"
      },
      "execution_count": null,
      "outputs": [
        {
          "output_type": "execute_result",
          "data": {
            "text/plain": [
              "<bound method Model.summary of <keras.engine.sequential.Sequential object at 0x7f680a1cfac0>>"
            ]
          },
          "metadata": {},
          "execution_count": 37
        }
      ]
    },
    {
      "cell_type": "code",
      "source": [
        "from keras import losses, optimizers, metrics\n",
        "model.compile(optimizer = \"adam\", loss = 'sparse_categorical_crossentropy',metrics=[\"accuracy\"])\n",
        "\n",
        "n_epochs = 10              \n",
        "batch_size = 512            \n",
        "history = model.fit(x_train_flatten,y_train,epochs=10,validation_data=(x_validation,y_validation))\n",
        "print(history.history.keys())"
      ],
      "metadata": {
        "colab": {
          "base_uri": "https://localhost:8080/"
        },
        "id": "Q4luoNzS3CZZ",
        "outputId": "9ce98af2-a293-4452-8498-0a1155cc677d"
      },
      "execution_count": null,
      "outputs": [
        {
          "output_type": "stream",
          "name": "stdout",
          "text": [
            "Epoch 1/10\n",
            "1563/1563 [==============================] - 4s 2ms/step - loss: 0.4908 - accuracy: 0.8741 - val_loss: 0.3279 - val_accuracy: 0.9088\n",
            "Epoch 2/10\n",
            "1563/1563 [==============================] - 3s 2ms/step - loss: 0.3137 - accuracy: 0.9128 - val_loss: 0.2948 - val_accuracy: 0.9180\n",
            "Epoch 3/10\n",
            "1563/1563 [==============================] - 3s 2ms/step - loss: 0.2900 - accuracy: 0.9193 - val_loss: 0.2798 - val_accuracy: 0.9200\n",
            "Epoch 4/10\n",
            "1563/1563 [==============================] - 3s 2ms/step - loss: 0.2782 - accuracy: 0.9229 - val_loss: 0.2756 - val_accuracy: 0.9228\n",
            "Epoch 5/10\n",
            "1563/1563 [==============================] - 3s 2ms/step - loss: 0.2709 - accuracy: 0.9243 - val_loss: 0.2719 - val_accuracy: 0.9214\n",
            "Epoch 6/10\n",
            "1563/1563 [==============================] - 4s 2ms/step - loss: 0.2656 - accuracy: 0.9268 - val_loss: 0.2712 - val_accuracy: 0.9240\n",
            "Epoch 7/10\n",
            "1563/1563 [==============================] - 3s 2ms/step - loss: 0.2613 - accuracy: 0.9282 - val_loss: 0.2718 - val_accuracy: 0.9228\n",
            "Epoch 8/10\n",
            "1563/1563 [==============================] - 3s 2ms/step - loss: 0.2584 - accuracy: 0.9277 - val_loss: 0.2665 - val_accuracy: 0.9248\n",
            "Epoch 9/10\n",
            "1563/1563 [==============================] - 4s 2ms/step - loss: 0.2556 - accuracy: 0.9295 - val_loss: 0.2639 - val_accuracy: 0.9250\n",
            "Epoch 10/10\n",
            "1563/1563 [==============================] - 3s 2ms/step - loss: 0.2530 - accuracy: 0.9296 - val_loss: 0.2634 - val_accuracy: 0.9261\n",
            "dict_keys(['loss', 'accuracy', 'val_loss', 'val_accuracy'])\n"
          ]
        }
      ]
    },
    {
      "cell_type": "code",
      "source": [
        "results = model.evaluate(x_test_flatten,y_test, 10)\n",
        "print(\"Loss = \",results[0])\n",
        "print(\"Accuracy = \",results[1]*100,\"%\")\n",
        "plt.plot([i for i in range(n_epochs)],history.history['accuracy'], label=\"Training accuracy\")\n",
        "plt.plot([i for i in range(n_epochs)],history.history['val_accuracy'],label=\"validation accuracy\" )\n",
        "plt.title(\"Model accuracy\")\n",
        "plt.xlabel(\"Epochs\")\n",
        "plt.ylabel(\"Accuracy\")\n",
        "plt.legend()\n",
        "plt.show()\n",
        "\n",
        "\n",
        "plt.plot([i for i in range(n_epochs)],history.history['loss'], label=\"loss\")\n",
        "plt.title(\"Model loss\")\n",
        "plt.xlabel(\"epochs\")\n",
        "plt.ylabel(\"loss\")\n",
        "plt.show()"
      ],
      "metadata": {
        "colab": {
          "base_uri": "https://localhost:8080/",
          "height": 979
        },
        "id": "LqZtbe7E3JOX",
        "outputId": "d0a3c02c-a397-4d41-c108-1672e29d19b3"
      },
      "execution_count": null,
      "outputs": [
        {
          "output_type": "stream",
          "name": "stdout",
          "text": [
            "1000/1000 [==============================] - 1s 1ms/step - loss: 0.2645 - accuracy: 0.9268\n",
            "Loss =  0.26449525356292725\n",
            "Accuracy =  92.6800012588501 %\n"
          ]
        },
        {
          "output_type": "display_data",
          "data": {
            "text/plain": [
              "<Figure size 640x480 with 1 Axes>"
            ],
            "image/png": "[encoded data removed]"
          },
          "metadata": {}
        },
        {
          "output_type": "display_data",
          "data": {
            "text/plain": [
              "<Figure size 640x480 with 1 Axes>"
            ],
            "image/png": "[encoded data removed]"
          },
          "metadata": {}
        }
      ]
    },
    {
      "cell_type": "code",
      "source": [
        "n = 5  \n",
        "index = np.random.choice(x_test.shape[0],5)  \n",
        "print(\"label: \",end=\"\")\n",
        "\n",
        "for i,ind in enumerate(index):\n",
        "    plt.subplot(1,n,i+1)\n",
        "    plt.imshow(x_test[ind],cmap=\"gray\")            \n",
        "    plt.axis(\"off\")\n",
        "    print(y_test[ind],end=\"       \")\n",
        "print(index)\n",
        "plt.show()\n",
        "print(\"Predicted value: \")\n",
        "for i,ind in enumerate(index):\n",
        "  di = model.predict(x_test_flatten)\n",
        "  digit = np.argmax(di[ind])\n",
        "  print(digit,end=\"       \")"
      ],
      "metadata": {
        "colab": {
          "base_uri": "https://localhost:8080/",
          "height": 261
        },
        "id": "EY4Es8lx3ZEO",
        "outputId": "79f75f3d-2906-481f-c170-b1d94aee84d1"
      },
      "execution_count": null,
      "outputs": [
        {
          "output_type": "stream",
          "name": "stdout",
          "text": [
            "label: 5       4       8       7       7       [3053 2514 7689 8959 4453]\n"
          ]
        },
        {
          "output_type": "display_data",
          "data": {
            "text/plain": [
              "<Figure size 640x480 with 5 Axes>"
            ],
            "image/png": "[encoded data removed]"
          },
          "metadata": {}
        },
        {
          "output_type": "stream",
          "name": "stdout",
          "text": [
            "Predicted value: \n",
            "313/313 [==============================] - 0s 1ms/step\n",
            "313/313 [==============================] - 0s 1ms/step\n",
            "313/313 [==============================] - 0s 1ms/step\n",
            "313/313 [==============================] - 0s 1ms/step\n",
            "313/313 [==============================] - 1s 2ms/step\n",
            "7       "
          ]
        }
      ]
    }
  ]
}